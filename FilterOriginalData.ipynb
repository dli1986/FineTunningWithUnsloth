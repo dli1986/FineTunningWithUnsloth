{
 "cells": [
  {
   "cell_type": "code",
   "execution_count": 1,
   "id": "1482f58b-b13e-47c1-95d4-db505e68f098",
   "metadata": {},
   "outputs": [
    {
     "name": "stdout",
     "output_type": "stream",
     "text": [
      "符合条件的条目数量: 959\n"
     ]
    }
   ],
   "source": [
    "import json\n",
    "\n",
    "# 加载 JSON 数据\n",
    "with open(\"./documents/preprocessed_BASIC_data_.json\", \"r\", encoding=\"utf-8\") as file:\n",
    "    data = json.load(file)\n",
    "\n",
    "# 过滤条件\n",
    "valid_entries = []\n",
    "for entry in data:\n",
    "    name_exists = bool(entry.get(\"name\"))\n",
    "    description_exists = bool(entry.get(\"description\") and len(entry[\"description\"]) > 0)\n",
    "    example_exists = bool(entry.get(\"example\") and len(entry[\"example\"]) > 0)\n",
    "    \n",
    "    # 检查是否满足所有条件\n",
    "    if name_exists and description_exists and example_exists:\n",
    "        valid_entries.append(entry)\n",
    "\n",
    "# 统计符合条件的条目数\n",
    "valid_count = len(valid_entries)\n",
    "\n",
    "# 输出统计结果\n",
    "print(f\"符合条件的条目数量: {valid_count}\")\n",
    "\n",
    "# 可选：保存符合条件的条目到新的 JSON 文件\n",
    "with open(\"./documents/filtered_data.json\", \"w\", encoding=\"utf-8\") as outfile:\n",
    "    json.dump(valid_entries, outfile, indent=4, ensure_ascii=False)\n"
   ]
  },
  {
   "cell_type": "code",
   "execution_count": null,
   "id": "c37edb33-6555-4b53-b48b-cef1cb51a2c8",
   "metadata": {},
   "outputs": [],
   "source": []
  }
 ],
 "metadata": {
  "kernelspec": {
   "display_name": "Python 3 (ipykernel)",
   "language": "python",
   "name": "python3"
  },
  "language_info": {
   "codemirror_mode": {
    "name": "ipython",
    "version": 3
   },
   "file_extension": ".py",
   "mimetype": "text/x-python",
   "name": "python",
   "nbconvert_exporter": "python",
   "pygments_lexer": "ipython3",
   "version": "3.10.15"
  }
 },
 "nbformat": 4,
 "nbformat_minor": 5
}
